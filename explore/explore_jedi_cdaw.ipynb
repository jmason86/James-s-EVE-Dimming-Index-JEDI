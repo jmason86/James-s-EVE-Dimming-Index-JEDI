{
 "cells": [
  {
   "cell_type": "markdown",
   "metadata": {},
   "source": [
    "# The thinking behind this code\n",
    "Here, I'm just looking to combine the JEDI catalog with the CDAW CME catalog. I really only care about the CME speed and mass in CDAW, so I strip my dataframe down to just that. \n",
    "By \"combine\" I really mean that I'd like to see which EVE emission lines (or line combos) are most predictive of CME speed and mass. I'd like to use some machine learning techniques to accomplish this. \n",
    "Combining the two catalogs also means matching the CMEs in CDAW to the rows I have in JEDI (or putting in null values where CDAW doesn't have a corresponding CME). "
   ]
  },
  {
   "cell_type": "code",
   "execution_count": 2,
   "metadata": {},
   "outputs": [],
   "source": [
    "# Standard modules\n",
    "import numpy as np\n",
    "import pandas as pd\n",
    "from astropy.time import Time\n",
    "import matplotlib.pyplot as plt\n",
    "from matplotlib import dates\n",
    "import seaborn as sns\n",
    "\n",
    "# Custom modules\n",
    "from jpm_time_conversions import *\n",
    "from jpm_logger import JpmLogger\n",
    "%matplotlib inline\n",
    "sns.set()\n",
    "plt.style.use('jpm-dark')"
   ]
  },
  {
   "cell_type": "markdown",
   "metadata": {},
   "source": [
    "## First things first: I've got to read in the catalogs and do a bit of cleaning\n",
    "and then take a look at the resultant dataframes"
   ]
  },
  {
   "cell_type": "code",
   "execution_count": 3,
   "metadata": {},
   "outputs": [],
   "source": [
    "# Read in the JEDI and CDAW catalogs\n",
    "jedi = pd.read_hdf('/Users/jmason86/Dropbox/Research/Postdoc_NASA/Analysis/Coronal Dimming Analysis/JEDI Catalog/jedi_v2.h5', key='jedi')\n",
    "cdaw = pd.read_csv('/Users/jmason86/Dropbox/Research/Data/CDAW/Historical CME Data.csv', parse_dates=[['Date', 'Time']])"
   ]
  },
  {
   "cell_type": "code",
   "execution_count": 4,
   "metadata": {},
   "outputs": [
    {
     "name": "stderr",
     "output_type": "stream",
     "text": [
      "/Users/jmason86/anaconda/envs/py36/lib/python3.6/site-packages/ipykernel/__main__.py:5: FutureWarning: convert_objects is deprecated.  To re-infer data dtypes for object columns, use DataFrame.infer_objects()\n",
      "For all other conversions use the data-type specific converters pd.to_datetime, pd.to_timedelta and pd.to_numeric.\n"
     ]
    }
   ],
   "source": [
    "# Clean the CDAW catalog, strip out the columns I don't care about, convert to numeric data type wherever appropriate\n",
    "cdaw.index = pd.DatetimeIndex(cdaw['Date_Time'])\n",
    "cdaw.index.rename('Datetime', inplace=True)\n",
    "cdaw.drop(['Date_Time', 'KE [erg]'], inplace=True, axis=1)\n",
    "cdaw = cdaw.convert_objects(convert_numeric=True)"
   ]
  },
  {
   "cell_type": "code",
   "execution_count": 5,
   "metadata": {},
   "outputs": [
    {
     "data": {
      "text/html": [
       "<div>\n",
       "<style scoped>\n",
       "    .dataframe tbody tr th:only-of-type {\n",
       "        vertical-align: middle;\n",
       "    }\n",
       "\n",
       "    .dataframe tbody tr th {\n",
       "        vertical-align: top;\n",
       "    }\n",
       "\n",
       "    .dataframe thead th {\n",
       "        text-align: right;\n",
       "    }\n",
       "</style>\n",
       "<table border=\"1\" class=\"dataframe\">\n",
       "  <thead>\n",
       "    <tr style=\"text-align: right;\">\n",
       "      <th></th>\n",
       "      <th>Position Angle [º]</th>\n",
       "      <th>Width</th>\n",
       "      <th>Linear Speed [km/s]</th>\n",
       "      <th>Mass [g]</th>\n",
       "      <th>Unnamed: 7</th>\n",
       "      <th>Unnamed: 8</th>\n",
       "      <th>Unnamed: 9</th>\n",
       "      <th>Unnamed: 10</th>\n",
       "      <th>Unnamed: 11</th>\n",
       "      <th>Unnamed: 12</th>\n",
       "      <th>Unnamed: 13</th>\n",
       "      <th>Unnamed: 14</th>\n",
       "      <th>Unnamed: 15</th>\n",
       "      <th>Unnamed: 16</th>\n",
       "    </tr>\n",
       "    <tr>\n",
       "      <th>Datetime</th>\n",
       "      <th></th>\n",
       "      <th></th>\n",
       "      <th></th>\n",
       "      <th></th>\n",
       "      <th></th>\n",
       "      <th></th>\n",
       "      <th></th>\n",
       "      <th></th>\n",
       "      <th></th>\n",
       "      <th></th>\n",
       "      <th></th>\n",
       "      <th></th>\n",
       "      <th></th>\n",
       "      <th></th>\n",
       "    </tr>\n",
       "  </thead>\n",
       "  <tbody>\n",
       "    <tr>\n",
       "      <th>2010-05-04 18:30:05</th>\n",
       "      <td>341.0</td>\n",
       "      <td>21</td>\n",
       "      <td>425.0</td>\n",
       "      <td>5.200000e+13</td>\n",
       "      <td>NaN</td>\n",
       "      <td>NaN</td>\n",
       "      <td>NaN</td>\n",
       "      <td>NaN</td>\n",
       "      <td>NaN</td>\n",
       "      <td>NaN</td>\n",
       "      <td>NaN</td>\n",
       "      <td>NaN</td>\n",
       "      <td>NaN</td>\n",
       "      <td>NaN</td>\n",
       "    </tr>\n",
       "    <tr>\n",
       "      <th>2010-05-05 00:30:05</th>\n",
       "      <td>232.0</td>\n",
       "      <td>15</td>\n",
       "      <td>259.0</td>\n",
       "      <td>NaN</td>\n",
       "      <td>NaN</td>\n",
       "      <td>NaN</td>\n",
       "      <td>NaN</td>\n",
       "      <td>NaN</td>\n",
       "      <td>NaN</td>\n",
       "      <td>NaN</td>\n",
       "      <td>NaN</td>\n",
       "      <td>NaN</td>\n",
       "      <td>NaN</td>\n",
       "      <td>NaN</td>\n",
       "    </tr>\n",
       "    <tr>\n",
       "      <th>2010-05-05 13:31:45</th>\n",
       "      <td>333.0</td>\n",
       "      <td>7</td>\n",
       "      <td>519.0</td>\n",
       "      <td>NaN</td>\n",
       "      <td>NaN</td>\n",
       "      <td>NaN</td>\n",
       "      <td>NaN</td>\n",
       "      <td>NaN</td>\n",
       "      <td>NaN</td>\n",
       "      <td>NaN</td>\n",
       "      <td>NaN</td>\n",
       "      <td>NaN</td>\n",
       "      <td>NaN</td>\n",
       "      <td>NaN</td>\n",
       "    </tr>\n",
       "    <tr>\n",
       "      <th>2010-05-05 17:06:05</th>\n",
       "      <td>331.0</td>\n",
       "      <td>25</td>\n",
       "      <td>462.0</td>\n",
       "      <td>1.200000e+14</td>\n",
       "      <td>NaN</td>\n",
       "      <td>NaN</td>\n",
       "      <td>NaN</td>\n",
       "      <td>NaN</td>\n",
       "      <td>NaN</td>\n",
       "      <td>NaN</td>\n",
       "      <td>NaN</td>\n",
       "      <td>NaN</td>\n",
       "      <td>NaN</td>\n",
       "      <td>NaN</td>\n",
       "    </tr>\n",
       "    <tr>\n",
       "      <th>2010-05-05 17:54:05</th>\n",
       "      <td>236.0</td>\n",
       "      <td>23</td>\n",
       "      <td>231.0</td>\n",
       "      <td>7.000000e+13</td>\n",
       "      <td>NaN</td>\n",
       "      <td>NaN</td>\n",
       "      <td>NaN</td>\n",
       "      <td>NaN</td>\n",
       "      <td>NaN</td>\n",
       "      <td>NaN</td>\n",
       "      <td>NaN</td>\n",
       "      <td>NaN</td>\n",
       "      <td>NaN</td>\n",
       "      <td>NaN</td>\n",
       "    </tr>\n",
       "  </tbody>\n",
       "</table>\n",
       "</div>"
      ],
      "text/plain": [
       "                     Position Angle [º]  Width  Linear Speed [km/s]  \\\n",
       "Datetime                                                              \n",
       "2010-05-04 18:30:05               341.0     21                425.0   \n",
       "2010-05-05 00:30:05               232.0     15                259.0   \n",
       "2010-05-05 13:31:45               333.0      7                519.0   \n",
       "2010-05-05 17:06:05               331.0     25                462.0   \n",
       "2010-05-05 17:54:05               236.0     23                231.0   \n",
       "\n",
       "                         Mass [g]  Unnamed: 7  Unnamed: 8  Unnamed: 9  \\\n",
       "Datetime                                                                \n",
       "2010-05-04 18:30:05  5.200000e+13         NaN         NaN         NaN   \n",
       "2010-05-05 00:30:05           NaN         NaN         NaN         NaN   \n",
       "2010-05-05 13:31:45           NaN         NaN         NaN         NaN   \n",
       "2010-05-05 17:06:05  1.200000e+14         NaN         NaN         NaN   \n",
       "2010-05-05 17:54:05  7.000000e+13         NaN         NaN         NaN   \n",
       "\n",
       "                    Unnamed: 10  Unnamed: 11 Unnamed: 12  Unnamed: 13  \\\n",
       "Datetime                                                                \n",
       "2010-05-04 18:30:05         NaN          NaN         NaN          NaN   \n",
       "2010-05-05 00:30:05         NaN          NaN         NaN          NaN   \n",
       "2010-05-05 13:31:45         NaN          NaN         NaN          NaN   \n",
       "2010-05-05 17:06:05         NaN          NaN         NaN          NaN   \n",
       "2010-05-05 17:54:05         NaN          NaN         NaN          NaN   \n",
       "\n",
       "                    Unnamed: 14 Unnamed: 15 Unnamed: 16  \n",
       "Datetime                                                 \n",
       "2010-05-04 18:30:05         NaN         NaN         NaN  \n",
       "2010-05-05 00:30:05         NaN         NaN         NaN  \n",
       "2010-05-05 13:31:45         NaN         NaN         NaN  \n",
       "2010-05-05 17:06:05         NaN         NaN         NaN  \n",
       "2010-05-05 17:54:05         NaN         NaN         NaN  "
      ]
     },
     "execution_count": 5,
     "metadata": {},
     "output_type": "execute_result"
    }
   ],
   "source": [
    "# More cleaning: restricting the time range of CDAW to that of JEDI\n",
    "cdaw = cdaw[jedi['GOES Flare Start Time'][0]: jedi['GOES Flare Start Time'][len(jedi) - 1]]\n",
    "cdaw.head()"
   ]
  },
  {
   "cell_type": "code",
   "execution_count": 6,
   "metadata": {},
   "outputs": [
    {
     "data": {
      "text/html": [
       "<div>\n",
       "<style scoped>\n",
       "    .dataframe tbody tr th:only-of-type {\n",
       "        vertical-align: middle;\n",
       "    }\n",
       "\n",
       "    .dataframe tbody tr th {\n",
       "        vertical-align: top;\n",
       "    }\n",
       "\n",
       "    .dataframe thead th {\n",
       "        text-align: right;\n",
       "    }\n",
       "</style>\n",
       "<table border=\"1\" class=\"dataframe\">\n",
       "  <thead>\n",
       "    <tr style=\"text-align: right;\">\n",
       "      <th></th>\n",
       "      <th>Event #</th>\n",
       "      <th>GOES Flare Start Time</th>\n",
       "      <th>GOES Flare Peak Time</th>\n",
       "      <th>GOES Flare Class</th>\n",
       "      <th>Pre-Flare Start Time</th>\n",
       "      <th>Pre-Flare End Time</th>\n",
       "      <th>Flare Interrupt</th>\n",
       "      <th>Flare Latitude [deg]</th>\n",
       "      <th>Flare Longitude [deg]</th>\n",
       "      <th>Flare Position Angle [deg]</th>\n",
       "      <th>...</th>\n",
       "      <th>103.2 by 63.0 Fitting Score</th>\n",
       "      <th>103.2 by 71.9 Fitting Score</th>\n",
       "      <th>103.2 by 72.2 Fitting Score</th>\n",
       "      <th>103.2 by 77.0 Fitting Score</th>\n",
       "      <th>103.2 by 79.0 Fitting Score</th>\n",
       "      <th>103.2 by 83.6 Fitting Score</th>\n",
       "      <th>103.2 by 95.0 Fitting Score</th>\n",
       "      <th>103.2 by 97.3 Fitting Score</th>\n",
       "      <th>103.2 by 97.7 Fitting Score</th>\n",
       "      <th>103.2 by 102.6 Fitting Score</th>\n",
       "    </tr>\n",
       "  </thead>\n",
       "  <tbody>\n",
       "    <tr>\n",
       "      <th>5046</th>\n",
       "      <td>5047</td>\n",
       "      <td>2014-04-15 06:31:00</td>\n",
       "      <td>2014-04-15 06:36:00</td>\n",
       "      <td>C1.0</td>\n",
       "      <td>2014-04-14 22:17</td>\n",
       "      <td>2014-04-15 03:17</td>\n",
       "      <td>True</td>\n",
       "      <td>-999</td>\n",
       "      <td>-999</td>\n",
       "      <td>134.999999</td>\n",
       "      <td>...</td>\n",
       "      <td>NaN</td>\n",
       "      <td>NaN</td>\n",
       "      <td>NaN</td>\n",
       "      <td>NaN</td>\n",
       "      <td>NaN</td>\n",
       "      <td>NaN</td>\n",
       "      <td>NaN</td>\n",
       "      <td>NaN</td>\n",
       "      <td>NaN</td>\n",
       "      <td>NaN</td>\n",
       "    </tr>\n",
       "    <tr>\n",
       "      <th>5047</th>\n",
       "      <td>5048</td>\n",
       "      <td>2014-04-15 06:42:00</td>\n",
       "      <td>2014-04-15 06:47:00</td>\n",
       "      <td>C3.6</td>\n",
       "      <td>2014-04-14 22:17</td>\n",
       "      <td>2014-04-15 03:17</td>\n",
       "      <td>True</td>\n",
       "      <td>-999</td>\n",
       "      <td>-999</td>\n",
       "      <td>134.999999</td>\n",
       "      <td>...</td>\n",
       "      <td>NaN</td>\n",
       "      <td>NaN</td>\n",
       "      <td>NaN</td>\n",
       "      <td>NaN</td>\n",
       "      <td>NaN</td>\n",
       "      <td>NaN</td>\n",
       "      <td>NaN</td>\n",
       "      <td>NaN</td>\n",
       "      <td>NaN</td>\n",
       "      <td>NaN</td>\n",
       "    </tr>\n",
       "    <tr>\n",
       "      <th>5048</th>\n",
       "      <td>5049</td>\n",
       "      <td>2014-04-15 07:04:00</td>\n",
       "      <td>2014-04-15 07:09:00</td>\n",
       "      <td>C1.3</td>\n",
       "      <td>2014-04-14 22:17</td>\n",
       "      <td>2014-04-15 03:17</td>\n",
       "      <td>True</td>\n",
       "      <td>-15</td>\n",
       "      <td>-27</td>\n",
       "      <td>119.054603</td>\n",
       "      <td>...</td>\n",
       "      <td>NaN</td>\n",
       "      <td>NaN</td>\n",
       "      <td>NaN</td>\n",
       "      <td>NaN</td>\n",
       "      <td>NaN</td>\n",
       "      <td>NaN</td>\n",
       "      <td>NaN</td>\n",
       "      <td>NaN</td>\n",
       "      <td>NaN</td>\n",
       "      <td>NaN</td>\n",
       "    </tr>\n",
       "    <tr>\n",
       "      <th>5049</th>\n",
       "      <td>5050</td>\n",
       "      <td>2014-04-15 08:53:00</td>\n",
       "      <td>2014-04-15 08:57:00</td>\n",
       "      <td>C1.3</td>\n",
       "      <td>2014-04-14 22:17</td>\n",
       "      <td>2014-04-15 03:17</td>\n",
       "      <td>True</td>\n",
       "      <td>-18</td>\n",
       "      <td>-8</td>\n",
       "      <td>156.037511</td>\n",
       "      <td>...</td>\n",
       "      <td>NaN</td>\n",
       "      <td>NaN</td>\n",
       "      <td>NaN</td>\n",
       "      <td>NaN</td>\n",
       "      <td>NaN</td>\n",
       "      <td>NaN</td>\n",
       "      <td>NaN</td>\n",
       "      <td>NaN</td>\n",
       "      <td>NaN</td>\n",
       "      <td>NaN</td>\n",
       "    </tr>\n",
       "    <tr>\n",
       "      <th>5050</th>\n",
       "      <td>5051</td>\n",
       "      <td>2014-04-15 09:15:00</td>\n",
       "      <td>2014-04-15 09:23:00</td>\n",
       "      <td>C8.6</td>\n",
       "      <td>2014-04-14 22:17</td>\n",
       "      <td>2014-04-15 03:17</td>\n",
       "      <td>True</td>\n",
       "      <td>-14</td>\n",
       "      <td>-25</td>\n",
       "      <td>119.248825</td>\n",
       "      <td>...</td>\n",
       "      <td>NaN</td>\n",
       "      <td>NaN</td>\n",
       "      <td>NaN</td>\n",
       "      <td>NaN</td>\n",
       "      <td>NaN</td>\n",
       "      <td>NaN</td>\n",
       "      <td>NaN</td>\n",
       "      <td>NaN</td>\n",
       "      <td>NaN</td>\n",
       "      <td>NaN</td>\n",
       "    </tr>\n",
       "  </tbody>\n",
       "</table>\n",
       "<p>5 rows × 27349 columns</p>\n",
       "</div>"
      ],
      "text/plain": [
       "      Event # GOES Flare Start Time GOES Flare Peak Time GOES Flare Class  \\\n",
       "5046     5047   2014-04-15 06:31:00  2014-04-15 06:36:00             C1.0   \n",
       "5047     5048   2014-04-15 06:42:00  2014-04-15 06:47:00             C3.6   \n",
       "5048     5049   2014-04-15 07:04:00  2014-04-15 07:09:00             C1.3   \n",
       "5049     5050   2014-04-15 08:53:00  2014-04-15 08:57:00             C1.3   \n",
       "5050     5051   2014-04-15 09:15:00  2014-04-15 09:23:00             C8.6   \n",
       "\n",
       "     Pre-Flare Start Time Pre-Flare End Time  Flare Interrupt  \\\n",
       "5046     2014-04-14 22:17   2014-04-15 03:17             True   \n",
       "5047     2014-04-14 22:17   2014-04-15 03:17             True   \n",
       "5048     2014-04-14 22:17   2014-04-15 03:17             True   \n",
       "5049     2014-04-14 22:17   2014-04-15 03:17             True   \n",
       "5050     2014-04-14 22:17   2014-04-15 03:17             True   \n",
       "\n",
       "      Flare Latitude [deg]  Flare Longitude [deg]  Flare Position Angle [deg]  \\\n",
       "5046                  -999                   -999                  134.999999   \n",
       "5047                  -999                   -999                  134.999999   \n",
       "5048                   -15                    -27                  119.054603   \n",
       "5049                   -18                     -8                  156.037511   \n",
       "5050                   -14                    -25                  119.248825   \n",
       "\n",
       "                  ...               103.2 by 63.0 Fitting Score  \\\n",
       "5046              ...                                       NaN   \n",
       "5047              ...                                       NaN   \n",
       "5048              ...                                       NaN   \n",
       "5049              ...                                       NaN   \n",
       "5050              ...                                       NaN   \n",
       "\n",
       "      103.2 by 71.9 Fitting Score  103.2 by 72.2 Fitting Score  \\\n",
       "5046                          NaN                          NaN   \n",
       "5047                          NaN                          NaN   \n",
       "5048                          NaN                          NaN   \n",
       "5049                          NaN                          NaN   \n",
       "5050                          NaN                          NaN   \n",
       "\n",
       "      103.2 by 77.0 Fitting Score  103.2 by 79.0 Fitting Score  \\\n",
       "5046                          NaN                          NaN   \n",
       "5047                          NaN                          NaN   \n",
       "5048                          NaN                          NaN   \n",
       "5049                          NaN                          NaN   \n",
       "5050                          NaN                          NaN   \n",
       "\n",
       "      103.2 by 83.6 Fitting Score  103.2 by 95.0 Fitting Score  \\\n",
       "5046                          NaN                          NaN   \n",
       "5047                          NaN                          NaN   \n",
       "5048                          NaN                          NaN   \n",
       "5049                          NaN                          NaN   \n",
       "5050                          NaN                          NaN   \n",
       "\n",
       "      103.2 by 97.3 Fitting Score  103.2 by 97.7 Fitting Score  \\\n",
       "5046                          NaN                          NaN   \n",
       "5047                          NaN                          NaN   \n",
       "5048                          NaN                          NaN   \n",
       "5049                          NaN                          NaN   \n",
       "5050                          NaN                          NaN   \n",
       "\n",
       "      103.2 by 102.6 Fitting Score  \n",
       "5046                           NaN  \n",
       "5047                           NaN  \n",
       "5048                           NaN  \n",
       "5049                           NaN  \n",
       "5050                           NaN  \n",
       "\n",
       "[5 rows x 27349 columns]"
      ]
     },
     "execution_count": 6,
     "metadata": {},
     "output_type": "execute_result"
    }
   ],
   "source": [
    "jedi.tail()"
   ]
  },
  {
   "cell_type": "markdown",
   "metadata": {},
   "source": [
    "Some postfacto cleaning here... JEDI >v1 will have GOES event latitude and longitude included but v1 doesn't so I need to bolt that on. "
   ]
  },
  {
   "cell_type": "code",
   "execution_count": 7,
   "metadata": {},
   "outputs": [],
   "source": [
    "from scipy.io.idl import readsav\n",
    "goes_flare_events = readsav('/Users/jmason86/Dropbox/Research/Data/GOES/events/GoesEventsC1MinMegsAEra.sav')"
   ]
  },
  {
   "cell_type": "code",
   "execution_count": 8,
   "metadata": {},
   "outputs": [],
   "source": [
    "jedi.insert(4, 'GOES Latitude', np.nan)\n",
    "jedi.insert(5, 'GOES Longitude', np.nan)"
   ]
  },
  {
   "cell_type": "code",
   "execution_count": 9,
   "metadata": {},
   "outputs": [],
   "source": [
    "goes_peak_times_to_add = Time(goes_flare_events['event_peak_time_jd'], format='jd', scale='utc').iso\n",
    "for i in range(len(jedi)):\n",
    "    matched_indices = np.where(goes_peak_times_to_add == jedi['GOES Flare Peak Time'][i])\n",
    "    if len(matched_indices[0]) > 0:\n",
    "        if goes_flare_events['latitude'][matched_indices[0][0]] != -999:\n",
    "            jedi['GOES Latitude'][i] = goes_flare_events['latitude'][matched_indices[0][0]][0]\n",
    "            jedi['GOES Longitude'][i] = goes_flare_events['longitude'][matched_indices[0][0]][0]"
   ]
  },
  {
   "cell_type": "markdown",
   "metadata": {},
   "source": [
    "## Make a merged catalog (DataFrame)\n",
    "I am using JEDI as the baseline and will fill in what I can from CDAW. This merged set will of course contain columns in addition to what's in JEDI."
   ]
  },
  {
   "cell_type": "code",
   "execution_count": 10,
   "metadata": {},
   "outputs": [],
   "source": [
    "jedicdaw = jedi.copy()\n",
    "jedicdaw['Has CME'] = False\n",
    "jedicdaw['Matching CME time to time of'] = np.nan\n",
    "jedicdaw['CME Time'] = np.nan\n",
    "jedicdaw['CME Width [º]'] = np.nan\n",
    "jedicdaw['CME Speed [km/s]'] = np.nan\n",
    "jedicdaw['CME Mass [g]'] = np.nan"
   ]
  },
  {
   "cell_type": "markdown",
   "metadata": {},
   "source": [
    "## Matching up rows in JEDI and CDAW\n",
    "To match up the rows in the two catalogs, I am using the standard that Alysha Reinard is, but slightly modified for my case: an event is correlated if the CME CDAW start time is between 2 hours before and 4 hours after the dimming max depth time (mean across emission lines) and within 45º of the flare location (converted to position angle). "
   ]
  },
  {
   "cell_type": "markdown",
   "metadata": {},
   "source": [
    "First I'll just define a function to convert flare position in lat/lon to position angle so it can be directly compared with the CME CDAW position"
   ]
  },
  {
   "cell_type": "code",
   "execution_count": 11,
   "metadata": {},
   "outputs": [],
   "source": [
    "def lat_lon_to_position_angle(longitude, latitude):\n",
    "    \"\"\"Function to translate heliocentric coordinates (latitude, longitude) into position angle\n",
    "    Written by Alysha Reinard. \n",
    "    \n",
    "    Inputs:\n",
    "        longitude [float]: The east/west coordinate\n",
    "        latitude [float]: The north/south coordinate\n",
    "        \n",
    "    Optional Inputs:\n",
    "       None\n",
    "\n",
    "    Outputs:\n",
    "        position_angle [float]: The converted position angle measured in degrees from solar north, counter clockwise\n",
    "                                                 \n",
    "    Optional Outputs:\n",
    "        None\n",
    "\n",
    "    Example:\n",
    "        position_angle = lat_lon_to_position_angle(35, -40)    \n",
    "    \"\"\"\n",
    "    x = longitude * 1.0\n",
    "    y = latitude * 1.0\n",
    "    if y != 0:\n",
    "        pa = np.arctan(-x / y)\n",
    "    else:\n",
    "        pa = 3.1415926 / 2.  # limit of arctan(infinity)\n",
    "\n",
    "    pa = pa * 180.0 / 3.1415926\n",
    "\n",
    "    if y < 0:\n",
    "        pa += 180\n",
    "    if x == 90 and y == 0:\n",
    "        pa += 180\n",
    "    if pa < 0:\n",
    "        pa += 360\n",
    "        \n",
    "    if x == 0 and y == 0:\n",
    "        pa = -1\n",
    "\n",
    "    return pa"
   ]
  },
  {
   "cell_type": "markdown",
   "metadata": {},
   "source": [
    "Just to make sure the function isn't buggy, I'll assert some values to sanity check them"
   ]
  },
  {
   "cell_type": "code",
   "execution_count": 12,
   "metadata": {},
   "outputs": [],
   "source": [
    "assert lat_lon_to_position_angle(0, 0) == -1 # halo\n",
    "assert lat_lon_to_position_angle(0, -90) == 180 # straight down\n",
    "assert lat_lon_to_position_angle(0, 90) == 0 # straight up\n",
    "assert lat_lon_to_position_angle(-90, 0) == 90 # to the left [east]\n",
    "assert lat_lon_to_position_angle(90, 0) == 270 # to the right [west]"
   ]
  },
  {
   "cell_type": "markdown",
   "metadata": {},
   "source": [
    "Now I'll compute position angle based on GOES lon, lat and add that as a new JEDI column"
   ]
  },
  {
   "cell_type": "code",
   "execution_count": 13,
   "metadata": {},
   "outputs": [],
   "source": [
    "jedi.insert(6, 'GOES Converted Position Angle [º]', np.nan)"
   ]
  },
  {
   "cell_type": "code",
   "execution_count": 14,
   "metadata": {},
   "outputs": [
    {
     "name": "stderr",
     "output_type": "stream",
     "text": [
      "/Users/jmason86/anaconda/envs/py36/lib/python3.6/site-packages/pandas/core/indexing.py:194: SettingWithCopyWarning: \n",
      "A value is trying to be set on a copy of a slice from a DataFrame\n",
      "\n",
      "See the caveats in the documentation: http://pandas.pydata.org/pandas-docs/stable/indexing.html#indexing-view-versus-copy\n",
      "  self._setitem_with_indexer(indexer, value)\n"
     ]
    }
   ],
   "source": [
    "for i in range(len(jedi)):\n",
    "    jedi['GOES Converted Position Angle [º]'].iloc[i] = lat_lon_to_position_angle(jedi['GOES Longitude'].iloc[i], jedi['GOES Latitude'].iloc[i]) # value setting on copy warning is ok.. the new computes values do show up in original jedi variable"
   ]
  },
  {
   "cell_type": "code",
   "execution_count": 15,
   "metadata": {},
   "outputs": [
    {
     "data": {
      "text/html": [
       "<div>\n",
       "<style scoped>\n",
       "    .dataframe tbody tr th:only-of-type {\n",
       "        vertical-align: middle;\n",
       "    }\n",
       "\n",
       "    .dataframe tbody tr th {\n",
       "        vertical-align: top;\n",
       "    }\n",
       "\n",
       "    .dataframe thead th {\n",
       "        text-align: right;\n",
       "    }\n",
       "</style>\n",
       "<table border=\"1\" class=\"dataframe\">\n",
       "  <thead>\n",
       "    <tr style=\"text-align: right;\">\n",
       "      <th></th>\n",
       "      <th>Event #</th>\n",
       "      <th>GOES Flare Start Time</th>\n",
       "      <th>GOES Flare Peak Time</th>\n",
       "      <th>GOES Flare Class</th>\n",
       "      <th>GOES Latitude</th>\n",
       "      <th>GOES Longitude</th>\n",
       "      <th>GOES Converted Position Angle [º]</th>\n",
       "      <th>Pre-Flare Start Time</th>\n",
       "      <th>Pre-Flare End Time</th>\n",
       "      <th>Flare Interrupt</th>\n",
       "      <th>...</th>\n",
       "      <th>103.2 by 63.0 Fitting Score</th>\n",
       "      <th>103.2 by 71.9 Fitting Score</th>\n",
       "      <th>103.2 by 72.2 Fitting Score</th>\n",
       "      <th>103.2 by 77.0 Fitting Score</th>\n",
       "      <th>103.2 by 79.0 Fitting Score</th>\n",
       "      <th>103.2 by 83.6 Fitting Score</th>\n",
       "      <th>103.2 by 95.0 Fitting Score</th>\n",
       "      <th>103.2 by 97.3 Fitting Score</th>\n",
       "      <th>103.2 by 97.7 Fitting Score</th>\n",
       "      <th>103.2 by 102.6 Fitting Score</th>\n",
       "    </tr>\n",
       "  </thead>\n",
       "  <tbody>\n",
       "    <tr>\n",
       "      <th>5046</th>\n",
       "      <td>5047</td>\n",
       "      <td>2014-04-15 06:31:00</td>\n",
       "      <td>2014-04-15 06:36:00</td>\n",
       "      <td>C1.0</td>\n",
       "      <td>NaN</td>\n",
       "      <td>NaN</td>\n",
       "      <td>NaN</td>\n",
       "      <td>2014-04-14 22:17</td>\n",
       "      <td>2014-04-15 03:17</td>\n",
       "      <td>True</td>\n",
       "      <td>...</td>\n",
       "      <td>NaN</td>\n",
       "      <td>NaN</td>\n",
       "      <td>NaN</td>\n",
       "      <td>NaN</td>\n",
       "      <td>NaN</td>\n",
       "      <td>NaN</td>\n",
       "      <td>NaN</td>\n",
       "      <td>NaN</td>\n",
       "      <td>NaN</td>\n",
       "      <td>NaN</td>\n",
       "    </tr>\n",
       "    <tr>\n",
       "      <th>5047</th>\n",
       "      <td>5048</td>\n",
       "      <td>2014-04-15 06:42:00</td>\n",
       "      <td>2014-04-15 06:47:00</td>\n",
       "      <td>C3.6</td>\n",
       "      <td>NaN</td>\n",
       "      <td>NaN</td>\n",
       "      <td>NaN</td>\n",
       "      <td>2014-04-14 22:17</td>\n",
       "      <td>2014-04-15 03:17</td>\n",
       "      <td>True</td>\n",
       "      <td>...</td>\n",
       "      <td>NaN</td>\n",
       "      <td>NaN</td>\n",
       "      <td>NaN</td>\n",
       "      <td>NaN</td>\n",
       "      <td>NaN</td>\n",
       "      <td>NaN</td>\n",
       "      <td>NaN</td>\n",
       "      <td>NaN</td>\n",
       "      <td>NaN</td>\n",
       "      <td>NaN</td>\n",
       "    </tr>\n",
       "    <tr>\n",
       "      <th>5048</th>\n",
       "      <td>5049</td>\n",
       "      <td>2014-04-15 07:04:00</td>\n",
       "      <td>2014-04-15 07:09:00</td>\n",
       "      <td>C1.3</td>\n",
       "      <td>NaN</td>\n",
       "      <td>NaN</td>\n",
       "      <td>NaN</td>\n",
       "      <td>2014-04-14 22:17</td>\n",
       "      <td>2014-04-15 03:17</td>\n",
       "      <td>True</td>\n",
       "      <td>...</td>\n",
       "      <td>NaN</td>\n",
       "      <td>NaN</td>\n",
       "      <td>NaN</td>\n",
       "      <td>NaN</td>\n",
       "      <td>NaN</td>\n",
       "      <td>NaN</td>\n",
       "      <td>NaN</td>\n",
       "      <td>NaN</td>\n",
       "      <td>NaN</td>\n",
       "      <td>NaN</td>\n",
       "    </tr>\n",
       "    <tr>\n",
       "      <th>5049</th>\n",
       "      <td>5050</td>\n",
       "      <td>2014-04-15 08:53:00</td>\n",
       "      <td>2014-04-15 08:57:00</td>\n",
       "      <td>C1.3</td>\n",
       "      <td>NaN</td>\n",
       "      <td>NaN</td>\n",
       "      <td>NaN</td>\n",
       "      <td>2014-04-14 22:17</td>\n",
       "      <td>2014-04-15 03:17</td>\n",
       "      <td>True</td>\n",
       "      <td>...</td>\n",
       "      <td>NaN</td>\n",
       "      <td>NaN</td>\n",
       "      <td>NaN</td>\n",
       "      <td>NaN</td>\n",
       "      <td>NaN</td>\n",
       "      <td>NaN</td>\n",
       "      <td>NaN</td>\n",
       "      <td>NaN</td>\n",
       "      <td>NaN</td>\n",
       "      <td>NaN</td>\n",
       "    </tr>\n",
       "    <tr>\n",
       "      <th>5050</th>\n",
       "      <td>5051</td>\n",
       "      <td>2014-04-15 09:15:00</td>\n",
       "      <td>2014-04-15 09:23:00</td>\n",
       "      <td>C8.6</td>\n",
       "      <td>NaN</td>\n",
       "      <td>NaN</td>\n",
       "      <td>NaN</td>\n",
       "      <td>2014-04-14 22:17</td>\n",
       "      <td>2014-04-15 03:17</td>\n",
       "      <td>True</td>\n",
       "      <td>...</td>\n",
       "      <td>NaN</td>\n",
       "      <td>NaN</td>\n",
       "      <td>NaN</td>\n",
       "      <td>NaN</td>\n",
       "      <td>NaN</td>\n",
       "      <td>NaN</td>\n",
       "      <td>NaN</td>\n",
       "      <td>NaN</td>\n",
       "      <td>NaN</td>\n",
       "      <td>NaN</td>\n",
       "    </tr>\n",
       "  </tbody>\n",
       "</table>\n",
       "<p>5 rows × 27352 columns</p>\n",
       "</div>"
      ],
      "text/plain": [
       "      Event # GOES Flare Start Time GOES Flare Peak Time GOES Flare Class  \\\n",
       "5046     5047   2014-04-15 06:31:00  2014-04-15 06:36:00             C1.0   \n",
       "5047     5048   2014-04-15 06:42:00  2014-04-15 06:47:00             C3.6   \n",
       "5048     5049   2014-04-15 07:04:00  2014-04-15 07:09:00             C1.3   \n",
       "5049     5050   2014-04-15 08:53:00  2014-04-15 08:57:00             C1.3   \n",
       "5050     5051   2014-04-15 09:15:00  2014-04-15 09:23:00             C8.6   \n",
       "\n",
       "      GOES Latitude  GOES Longitude  GOES Converted Position Angle [º]  \\\n",
       "5046            NaN             NaN                                NaN   \n",
       "5047            NaN             NaN                                NaN   \n",
       "5048            NaN             NaN                                NaN   \n",
       "5049            NaN             NaN                                NaN   \n",
       "5050            NaN             NaN                                NaN   \n",
       "\n",
       "     Pre-Flare Start Time Pre-Flare End Time  Flare Interrupt  \\\n",
       "5046     2014-04-14 22:17   2014-04-15 03:17             True   \n",
       "5047     2014-04-14 22:17   2014-04-15 03:17             True   \n",
       "5048     2014-04-14 22:17   2014-04-15 03:17             True   \n",
       "5049     2014-04-14 22:17   2014-04-15 03:17             True   \n",
       "5050     2014-04-14 22:17   2014-04-15 03:17             True   \n",
       "\n",
       "                  ...               103.2 by 63.0 Fitting Score  \\\n",
       "5046              ...                                       NaN   \n",
       "5047              ...                                       NaN   \n",
       "5048              ...                                       NaN   \n",
       "5049              ...                                       NaN   \n",
       "5050              ...                                       NaN   \n",
       "\n",
       "      103.2 by 71.9 Fitting Score  103.2 by 72.2 Fitting Score  \\\n",
       "5046                          NaN                          NaN   \n",
       "5047                          NaN                          NaN   \n",
       "5048                          NaN                          NaN   \n",
       "5049                          NaN                          NaN   \n",
       "5050                          NaN                          NaN   \n",
       "\n",
       "      103.2 by 77.0 Fitting Score  103.2 by 79.0 Fitting Score  \\\n",
       "5046                          NaN                          NaN   \n",
       "5047                          NaN                          NaN   \n",
       "5048                          NaN                          NaN   \n",
       "5049                          NaN                          NaN   \n",
       "5050                          NaN                          NaN   \n",
       "\n",
       "      103.2 by 83.6 Fitting Score  103.2 by 95.0 Fitting Score  \\\n",
       "5046                          NaN                          NaN   \n",
       "5047                          NaN                          NaN   \n",
       "5048                          NaN                          NaN   \n",
       "5049                          NaN                          NaN   \n",
       "5050                          NaN                          NaN   \n",
       "\n",
       "      103.2 by 97.3 Fitting Score  103.2 by 97.7 Fitting Score  \\\n",
       "5046                          NaN                          NaN   \n",
       "5047                          NaN                          NaN   \n",
       "5048                          NaN                          NaN   \n",
       "5049                          NaN                          NaN   \n",
       "5050                          NaN                          NaN   \n",
       "\n",
       "      103.2 by 102.6 Fitting Score  \n",
       "5046                           NaN  \n",
       "5047                           NaN  \n",
       "5048                           NaN  \n",
       "5049                           NaN  \n",
       "5050                           NaN  \n",
       "\n",
       "[5 rows x 27352 columns]"
      ]
     },
     "execution_count": 15,
     "metadata": {},
     "output_type": "execute_result"
    }
   ],
   "source": [
    "jedi.tail()"
   ]
  },
  {
   "cell_type": "code",
   "execution_count": 15,
   "metadata": {},
   "outputs": [],
   "source": [
    "jedicdaw.insert(6, 'GOES Converted Position Angle [º]', np.nan)\n",
    "jedicdaw['GOES Converted Position Angle [º]'] = jedi['GOES Converted Position Angle [º]']"
   ]
  },
  {
   "cell_type": "markdown",
   "metadata": {},
   "source": [
    "I need to match up times: which CMEs occur reasonably close in time to each dimming/flare? First I need to figure out whether to use the dimming or flare time for each event."
   ]
  },
  {
   "cell_type": "code",
   "execution_count": 16,
   "metadata": {},
   "outputs": [
    {
     "name": "stderr",
     "output_type": "stream",
     "text": [
      "/Users/jmason86/anaconda/envs/py36/lib/python3.6/site-packages/pandas/core/indexing.py:194: SettingWithCopyWarning: \n",
      "A value is trying to be set on a copy of a slice from a DataFrame\n",
      "\n",
      "See the caveats in the documentation: http://pandas.pydata.org/pandas-docs/stable/indexing.html#indexing-view-versus-copy\n",
      "  self._setitem_with_indexer(indexer, value)\n",
      "/Users/jmason86/anaconda/envs/py36/lib/python3.6/site-packages/ipykernel/__main__.py:5: RuntimeWarning: Mean of empty slice\n"
     ]
    }
   ],
   "source": [
    "dimming_times = jedi.filter(regex='Depth Time')\n",
    "mean_times = []\n",
    "for i in range(len(dimming_times)):\n",
    "    tmp = pd.DatetimeIndex(dimming_times.iloc[i])\n",
    "    tmp = np.nanmean(pd.DatetimeIndex.to_julian_date(tmp[tmp.notnull()]))\n",
    "    if not np.isnan(tmp):\n",
    "        mean_times.append(Time(tmp, format='jd').iso)\n",
    "        jedicdaw['Matching CME time to time of'].iloc[i] = 'Dimming'\n",
    "    else:\n",
    "        mean_times.append(jedi['GOES Flare Peak Time'].iloc[i])\n",
    "        jedicdaw['Matching CME time to time of'].iloc[i] = 'Flare'"
   ]
  },
  {
   "cell_type": "code",
   "execution_count": 17,
   "metadata": {},
   "outputs": [],
   "source": [
    "jedi_time = Time(mean_times)\n",
    "cdaw_time = Time(cdaw.index.values.astype(str))"
   ]
  },
  {
   "cell_type": "code",
   "execution_count": 18,
   "metadata": {},
   "outputs": [
    {
     "data": {
      "text/html": [
       "<div>\n",
       "<style scoped>\n",
       "    .dataframe tbody tr th:only-of-type {\n",
       "        vertical-align: middle;\n",
       "    }\n",
       "\n",
       "    .dataframe tbody tr th {\n",
       "        vertical-align: top;\n",
       "    }\n",
       "\n",
       "    .dataframe thead th {\n",
       "        text-align: right;\n",
       "    }\n",
       "</style>\n",
       "<table border=\"1\" class=\"dataframe\">\n",
       "  <thead>\n",
       "    <tr style=\"text-align: right;\">\n",
       "      <th></th>\n",
       "      <th>Event #</th>\n",
       "      <th>GOES Flare Start Time</th>\n",
       "      <th>GOES Flare Peak Time</th>\n",
       "      <th>GOES Flare Class</th>\n",
       "      <th>GOES Latitude</th>\n",
       "      <th>GOES Longitude</th>\n",
       "      <th>GOES Converted Position Angle [º]</th>\n",
       "      <th>Pre-Flare Start Time</th>\n",
       "      <th>Pre-Flare End Time</th>\n",
       "      <th>Flare Interrupt</th>\n",
       "      <th>...</th>\n",
       "      <th>103.2 by 83.6 Fitting Score</th>\n",
       "      <th>103.2 by 95.0 Fitting Score</th>\n",
       "      <th>103.2 by 97.3 Fitting Score</th>\n",
       "      <th>103.2 by 97.7 Fitting Score</th>\n",
       "      <th>103.2 by 102.6 Fitting Score</th>\n",
       "      <th>Has CME</th>\n",
       "      <th>Matching CME time to time of</th>\n",
       "      <th>CME Time</th>\n",
       "      <th>CME Speed [km/s]</th>\n",
       "      <th>CME Mass [g]</th>\n",
       "    </tr>\n",
       "  </thead>\n",
       "  <tbody>\n",
       "    <tr>\n",
       "      <th>0</th>\n",
       "      <td>1.0</td>\n",
       "      <td>2010-05-04 16:15:00.000</td>\n",
       "      <td>2010-05-04 16:29:00.000</td>\n",
       "      <td>C3.6</td>\n",
       "      <td>41.0</td>\n",
       "      <td>23.0</td>\n",
       "      <td>330.708637</td>\n",
       "      <td>2010-05-04 08:29:00.000</td>\n",
       "      <td>2010-05-04 16:29:00.000</td>\n",
       "      <td>True</td>\n",
       "      <td>...</td>\n",
       "      <td>NaN</td>\n",
       "      <td>NaN</td>\n",
       "      <td>NaN</td>\n",
       "      <td>NaN</td>\n",
       "      <td>NaN</td>\n",
       "      <td>False</td>\n",
       "      <td>Dimming</td>\n",
       "      <td>NaN</td>\n",
       "      <td>NaN</td>\n",
       "      <td>NaN</td>\n",
       "    </tr>\n",
       "    <tr>\n",
       "      <th>1</th>\n",
       "      <td>2.0</td>\n",
       "      <td>2010-05-05 07:09:00.000</td>\n",
       "      <td>2010-05-05 07:16:00.000</td>\n",
       "      <td>C2.3</td>\n",
       "      <td>NaN</td>\n",
       "      <td>NaN</td>\n",
       "      <td>NaN</td>\n",
       "      <td>2010-05-04 23:16:00.000</td>\n",
       "      <td>2010-05-05 07:16:00.000</td>\n",
       "      <td>True</td>\n",
       "      <td>...</td>\n",
       "      <td>NaN</td>\n",
       "      <td>NaN</td>\n",
       "      <td>NaN</td>\n",
       "      <td>NaN</td>\n",
       "      <td>NaN</td>\n",
       "      <td>False</td>\n",
       "      <td>Dimming</td>\n",
       "      <td>NaN</td>\n",
       "      <td>NaN</td>\n",
       "      <td>NaN</td>\n",
       "    </tr>\n",
       "    <tr>\n",
       "      <th>2</th>\n",
       "      <td>3.0</td>\n",
       "      <td>2010-05-05 11:37:00.000</td>\n",
       "      <td>2010-05-05 11:52:00.000</td>\n",
       "      <td>C8.8</td>\n",
       "      <td>NaN</td>\n",
       "      <td>NaN</td>\n",
       "      <td>NaN</td>\n",
       "      <td>2010-05-04 23:16:00.000</td>\n",
       "      <td>2010-05-05 07:16:00.000</td>\n",
       "      <td>True</td>\n",
       "      <td>...</td>\n",
       "      <td>NaN</td>\n",
       "      <td>NaN</td>\n",
       "      <td>NaN</td>\n",
       "      <td>NaN</td>\n",
       "      <td>NaN</td>\n",
       "      <td>False</td>\n",
       "      <td>Dimming</td>\n",
       "      <td>NaN</td>\n",
       "      <td>NaN</td>\n",
       "      <td>NaN</td>\n",
       "    </tr>\n",
       "    <tr>\n",
       "      <th>3</th>\n",
       "      <td>4.0</td>\n",
       "      <td>2010-05-05 17:13:00.000</td>\n",
       "      <td>2010-05-05 17:19:00.000</td>\n",
       "      <td>M1.2</td>\n",
       "      <td>42.0</td>\n",
       "      <td>37.0</td>\n",
       "      <td>318.621484</td>\n",
       "      <td>2010-05-04 23:16:00.000</td>\n",
       "      <td>2010-05-05 07:16:00.000</td>\n",
       "      <td>False</td>\n",
       "      <td>...</td>\n",
       "      <td>NaN</td>\n",
       "      <td>NaN</td>\n",
       "      <td>NaN</td>\n",
       "      <td>NaN</td>\n",
       "      <td>NaN</td>\n",
       "      <td>False</td>\n",
       "      <td>Dimming</td>\n",
       "      <td>NaN</td>\n",
       "      <td>NaN</td>\n",
       "      <td>NaN</td>\n",
       "    </tr>\n",
       "    <tr>\n",
       "      <th>4</th>\n",
       "      <td>5.0</td>\n",
       "      <td>2010-05-07 07:29:00.000</td>\n",
       "      <td>2010-05-07 07:42:00.000</td>\n",
       "      <td>C2.0</td>\n",
       "      <td>40.0</td>\n",
       "      <td>54.0</td>\n",
       "      <td>306.528854</td>\n",
       "      <td>2010-05-06 23:42:00.000</td>\n",
       "      <td>2010-05-07 07:42:00.000</td>\n",
       "      <td>True</td>\n",
       "      <td>...</td>\n",
       "      <td>NaN</td>\n",
       "      <td>NaN</td>\n",
       "      <td>NaN</td>\n",
       "      <td>NaN</td>\n",
       "      <td>NaN</td>\n",
       "      <td>False</td>\n",
       "      <td>Dimming</td>\n",
       "      <td>NaN</td>\n",
       "      <td>NaN</td>\n",
       "      <td>NaN</td>\n",
       "    </tr>\n",
       "  </tbody>\n",
       "</table>\n",
       "<p>5 rows × 24312 columns</p>\n",
       "</div>"
      ],
      "text/plain": [
       "   Event #    GOES Flare Start Time     GOES Flare Peak Time GOES Flare Class  \\\n",
       "0      1.0  2010-05-04 16:15:00.000  2010-05-04 16:29:00.000             C3.6   \n",
       "1      2.0  2010-05-05 07:09:00.000  2010-05-05 07:16:00.000             C2.3   \n",
       "2      3.0  2010-05-05 11:37:00.000  2010-05-05 11:52:00.000             C8.8   \n",
       "3      4.0  2010-05-05 17:13:00.000  2010-05-05 17:19:00.000             M1.2   \n",
       "4      5.0  2010-05-07 07:29:00.000  2010-05-07 07:42:00.000             C2.0   \n",
       "\n",
       "   GOES Latitude  GOES Longitude  GOES Converted Position Angle [º]  \\\n",
       "0           41.0            23.0                         330.708637   \n",
       "1            NaN             NaN                                NaN   \n",
       "2            NaN             NaN                                NaN   \n",
       "3           42.0            37.0                         318.621484   \n",
       "4           40.0            54.0                         306.528854   \n",
       "\n",
       "      Pre-Flare Start Time       Pre-Flare End Time Flare Interrupt  \\\n",
       "0  2010-05-04 08:29:00.000  2010-05-04 16:29:00.000            True   \n",
       "1  2010-05-04 23:16:00.000  2010-05-05 07:16:00.000            True   \n",
       "2  2010-05-04 23:16:00.000  2010-05-05 07:16:00.000            True   \n",
       "3  2010-05-04 23:16:00.000  2010-05-05 07:16:00.000           False   \n",
       "4  2010-05-06 23:42:00.000  2010-05-07 07:42:00.000            True   \n",
       "\n",
       "       ...       103.2 by 83.6 Fitting Score  103.2 by 95.0 Fitting Score  \\\n",
       "0      ...                               NaN                          NaN   \n",
       "1      ...                               NaN                          NaN   \n",
       "2      ...                               NaN                          NaN   \n",
       "3      ...                               NaN                          NaN   \n",
       "4      ...                               NaN                          NaN   \n",
       "\n",
       "   103.2 by 97.3 Fitting Score  103.2 by 97.7 Fitting Score  \\\n",
       "0                          NaN                          NaN   \n",
       "1                          NaN                          NaN   \n",
       "2                          NaN                          NaN   \n",
       "3                          NaN                          NaN   \n",
       "4                          NaN                          NaN   \n",
       "\n",
       "   103.2 by 102.6 Fitting Score  Has CME  Matching CME time to time of  \\\n",
       "0                           NaN    False                       Dimming   \n",
       "1                           NaN    False                       Dimming   \n",
       "2                           NaN    False                       Dimming   \n",
       "3                           NaN    False                       Dimming   \n",
       "4                           NaN    False                       Dimming   \n",
       "\n",
       "   CME Time  CME Speed [km/s]  CME Mass [g]  \n",
       "0       NaN               NaN           NaN  \n",
       "1       NaN               NaN           NaN  \n",
       "2       NaN               NaN           NaN  \n",
       "3       NaN               NaN           NaN  \n",
       "4       NaN               NaN           NaN  \n",
       "\n",
       "[5 rows x 24312 columns]"
      ]
     },
     "execution_count": 18,
     "metadata": {},
     "output_type": "execute_result"
    }
   ],
   "source": [
    "jedicdaw.head()"
   ]
  },
  {
   "cell_type": "markdown",
   "metadata": {},
   "source": [
    "And now I can actually doop through all of the JEDI events and see if there are any matches in CDAW by time and position, and that also are above thresholds (speed > 200 km/s, width > 30º per Barbara Thompson's description of jets [vs CMEs])."
   ]
  },
  {
   "cell_type": "code",
   "execution_count": 38,
   "metadata": {},
   "outputs": [
    {
     "name": "stderr",
     "output_type": "stream",
     "text": [
      "/Users/jmason86/anaconda/envs/py36/lib/python3.6/site-packages/pandas/core/indexing.py:194: SettingWithCopyWarning: \n",
      "A value is trying to be set on a copy of a slice from a DataFrame\n",
      "\n",
      "See the caveats in the documentation: http://pandas.pydata.org/pandas-docs/stable/indexing.html#indexing-view-versus-copy\n",
      "  self._setitem_with_indexer(indexer, value)\n"
     ]
    }
   ],
   "source": [
    "for jedi_row_index in range(len(jedi)):\n",
    "    ind = np.where((cdaw_time.jd <= (4./24. + jedi_time[jedi_row_index].jd)) & (cdaw_time.jd >= (jedi_time[jedi_row_index].jd - 2./24.)))  # Events should occur within a few hours of each other\n",
    "    if ind[0].size == 1:\n",
    "        cme_pa = cdaw['Position Angle [º]'].iloc[ind[0]].values[0]\n",
    "        flare_pa = jedicdaw['GOES Converted Position Angle [º]'].iloc[jedi_row_index]\n",
    "        if np.abs(cme_pa - flare_pa) < 45:  # Events should be close to each other\n",
    "            if cdaw['Linear Speed [km/s]'].iloc[ind[0]].values[0] > 200:  # Events shouldn't be super slow (Barbara Thompson suggests these are really jets)\n",
    "                if cdaw['Width'].iloc[ind[0]].values[0] > 30:  # Events shouldn't be super narrow (Barbara Thompson suggests these are really jets)\n",
    "                    jedicdaw['Has CME'].iloc[jedi_row_index] = True\n",
    "                    jedicdaw['CME Time'].iloc[jedi_row_index] = cdaw_time[ind[0]].iso[0]\n",
    "                    jedicdaw['CME Width [º]'].iloc[jedi_row_index] = cdaw['Width'].iloc[ind[0]].values[0]\n",
    "                    jedicdaw['CME Speed [km/s]'].iloc[jedi_row_index] = cdaw['Linear Speed [km/s]'].iloc[ind[0]].values[0]\n",
    "                    jedicdaw['CME Mass [g]'].iloc[jedi_row_index] = cdaw['Mass [g]'].iloc[ind[0]].values[0]\n",
    "    elif ind[0].size > 1:\n",
    "        # TODO: Figure out how to decide what to do with multiple matching CMEs -- for now just grabbing the first one\n",
    "        cme_pa = cdaw['Position Angle [º]'].iloc[ind[0]].values[0]  # Just grabbing first one here\n",
    "        flare_pa = jedicdaw['GOES Converted Position Angle [º]'].iloc[jedi_row_index]\n",
    "        if np.abs(cme_pa - flare_pa) < 45:\n",
    "            if cdaw['Linear Speed [km/s]'].iloc[ind[0]].values[0] > 200:  # Events shouldn't be super slow, and just grabbing first event here too\n",
    "                if cdaw['Width'].iloc[ind[0]].values[0] > 30:  # Events shouldn't be super narrow (Barbara Thompson suggests these are really jets)\n",
    "                    jedicdaw['Has CME'].iloc[jedi_row_index] = ind[0].size\n",
    "                    jedicdaw['CME Time'].iloc[jedi_row_index] = cdaw_time[ind[0]].iso[0]\n",
    "                    jedicdaw['CME Width [º]'].iloc[jedi_row_index] = cdaw['Width'].iloc[ind[0]].values[0]\n",
    "                    jedicdaw['CME Speed [km/s]'].iloc[jedi_row_index] = cdaw['Linear Speed [km/s]'].iloc[ind[0]].values[0]  # And just grabbing first one here too\n",
    "                    jedicdaw['CME Mass [g]'].iloc[jedi_row_index] = cdaw['Mass [g]'].iloc[ind[0]].values[0]"
   ]
  },
  {
   "cell_type": "code",
   "execution_count": 21,
   "metadata": {},
   "outputs": [
    {
     "data": {
      "text/html": [
       "<div>\n",
       "<style scoped>\n",
       "    .dataframe tbody tr th:only-of-type {\n",
       "        vertical-align: middle;\n",
       "    }\n",
       "\n",
       "    .dataframe tbody tr th {\n",
       "        vertical-align: top;\n",
       "    }\n",
       "\n",
       "    .dataframe thead th {\n",
       "        text-align: right;\n",
       "    }\n",
       "</style>\n",
       "<table border=\"1\" class=\"dataframe\">\n",
       "  <thead>\n",
       "    <tr style=\"text-align: right;\">\n",
       "      <th></th>\n",
       "      <th>Event #</th>\n",
       "      <th>GOES Flare Start Time</th>\n",
       "      <th>GOES Flare Peak Time</th>\n",
       "      <th>GOES Flare Class</th>\n",
       "      <th>GOES Latitude</th>\n",
       "      <th>GOES Longitude</th>\n",
       "      <th>GOES Converted Position Angle [º]</th>\n",
       "      <th>Pre-Flare Start Time</th>\n",
       "      <th>Pre-Flare End Time</th>\n",
       "      <th>Flare Interrupt</th>\n",
       "      <th>...</th>\n",
       "      <th>103.2 by 83.6 Fitting Score</th>\n",
       "      <th>103.2 by 95.0 Fitting Score</th>\n",
       "      <th>103.2 by 97.3 Fitting Score</th>\n",
       "      <th>103.2 by 97.7 Fitting Score</th>\n",
       "      <th>103.2 by 102.6 Fitting Score</th>\n",
       "      <th>Has CME</th>\n",
       "      <th>Matching CME time to time of</th>\n",
       "      <th>CME Time</th>\n",
       "      <th>CME Speed [km/s]</th>\n",
       "      <th>CME Mass [g]</th>\n",
       "    </tr>\n",
       "  </thead>\n",
       "  <tbody>\n",
       "    <tr>\n",
       "      <th>0</th>\n",
       "      <td>1.0</td>\n",
       "      <td>2010-05-04 16:15:00.000</td>\n",
       "      <td>2010-05-04 16:29:00.000</td>\n",
       "      <td>C3.6</td>\n",
       "      <td>41.0</td>\n",
       "      <td>23.0</td>\n",
       "      <td>330.708637</td>\n",
       "      <td>2010-05-04 08:29:00.000</td>\n",
       "      <td>2010-05-04 16:29:00.000</td>\n",
       "      <td>True</td>\n",
       "      <td>...</td>\n",
       "      <td>NaN</td>\n",
       "      <td>NaN</td>\n",
       "      <td>NaN</td>\n",
       "      <td>NaN</td>\n",
       "      <td>NaN</td>\n",
       "      <td>False</td>\n",
       "      <td>Dimming</td>\n",
       "      <td>NaN</td>\n",
       "      <td>NaN</td>\n",
       "      <td>NaN</td>\n",
       "    </tr>\n",
       "    <tr>\n",
       "      <th>1</th>\n",
       "      <td>2.0</td>\n",
       "      <td>2010-05-05 07:09:00.000</td>\n",
       "      <td>2010-05-05 07:16:00.000</td>\n",
       "      <td>C2.3</td>\n",
       "      <td>NaN</td>\n",
       "      <td>NaN</td>\n",
       "      <td>NaN</td>\n",
       "      <td>2010-05-04 23:16:00.000</td>\n",
       "      <td>2010-05-05 07:16:00.000</td>\n",
       "      <td>True</td>\n",
       "      <td>...</td>\n",
       "      <td>NaN</td>\n",
       "      <td>NaN</td>\n",
       "      <td>NaN</td>\n",
       "      <td>NaN</td>\n",
       "      <td>NaN</td>\n",
       "      <td>False</td>\n",
       "      <td>Dimming</td>\n",
       "      <td>NaN</td>\n",
       "      <td>NaN</td>\n",
       "      <td>NaN</td>\n",
       "    </tr>\n",
       "    <tr>\n",
       "      <th>2</th>\n",
       "      <td>3.0</td>\n",
       "      <td>2010-05-05 11:37:00.000</td>\n",
       "      <td>2010-05-05 11:52:00.000</td>\n",
       "      <td>C8.8</td>\n",
       "      <td>NaN</td>\n",
       "      <td>NaN</td>\n",
       "      <td>NaN</td>\n",
       "      <td>2010-05-04 23:16:00.000</td>\n",
       "      <td>2010-05-05 07:16:00.000</td>\n",
       "      <td>True</td>\n",
       "      <td>...</td>\n",
       "      <td>NaN</td>\n",
       "      <td>NaN</td>\n",
       "      <td>NaN</td>\n",
       "      <td>NaN</td>\n",
       "      <td>NaN</td>\n",
       "      <td>False</td>\n",
       "      <td>Dimming</td>\n",
       "      <td>NaN</td>\n",
       "      <td>NaN</td>\n",
       "      <td>NaN</td>\n",
       "    </tr>\n",
       "    <tr>\n",
       "      <th>3</th>\n",
       "      <td>4.0</td>\n",
       "      <td>2010-05-05 17:13:00.000</td>\n",
       "      <td>2010-05-05 17:19:00.000</td>\n",
       "      <td>M1.2</td>\n",
       "      <td>42.0</td>\n",
       "      <td>37.0</td>\n",
       "      <td>318.621484</td>\n",
       "      <td>2010-05-04 23:16:00.000</td>\n",
       "      <td>2010-05-05 07:16:00.000</td>\n",
       "      <td>False</td>\n",
       "      <td>...</td>\n",
       "      <td>NaN</td>\n",
       "      <td>NaN</td>\n",
       "      <td>NaN</td>\n",
       "      <td>NaN</td>\n",
       "      <td>NaN</td>\n",
       "      <td>False</td>\n",
       "      <td>Dimming</td>\n",
       "      <td>NaN</td>\n",
       "      <td>NaN</td>\n",
       "      <td>NaN</td>\n",
       "    </tr>\n",
       "    <tr>\n",
       "      <th>4</th>\n",
       "      <td>5.0</td>\n",
       "      <td>2010-05-07 07:29:00.000</td>\n",
       "      <td>2010-05-07 07:42:00.000</td>\n",
       "      <td>C2.0</td>\n",
       "      <td>40.0</td>\n",
       "      <td>54.0</td>\n",
       "      <td>306.528854</td>\n",
       "      <td>2010-05-06 23:42:00.000</td>\n",
       "      <td>2010-05-07 07:42:00.000</td>\n",
       "      <td>True</td>\n",
       "      <td>...</td>\n",
       "      <td>NaN</td>\n",
       "      <td>NaN</td>\n",
       "      <td>NaN</td>\n",
       "      <td>NaN</td>\n",
       "      <td>NaN</td>\n",
       "      <td>False</td>\n",
       "      <td>Dimming</td>\n",
       "      <td>NaN</td>\n",
       "      <td>NaN</td>\n",
       "      <td>NaN</td>\n",
       "    </tr>\n",
       "  </tbody>\n",
       "</table>\n",
       "<p>5 rows × 24312 columns</p>\n",
       "</div>"
      ],
      "text/plain": [
       "   Event #    GOES Flare Start Time     GOES Flare Peak Time GOES Flare Class  \\\n",
       "0      1.0  2010-05-04 16:15:00.000  2010-05-04 16:29:00.000             C3.6   \n",
       "1      2.0  2010-05-05 07:09:00.000  2010-05-05 07:16:00.000             C2.3   \n",
       "2      3.0  2010-05-05 11:37:00.000  2010-05-05 11:52:00.000             C8.8   \n",
       "3      4.0  2010-05-05 17:13:00.000  2010-05-05 17:19:00.000             M1.2   \n",
       "4      5.0  2010-05-07 07:29:00.000  2010-05-07 07:42:00.000             C2.0   \n",
       "\n",
       "   GOES Latitude  GOES Longitude  GOES Converted Position Angle [º]  \\\n",
       "0           41.0            23.0                         330.708637   \n",
       "1            NaN             NaN                                NaN   \n",
       "2            NaN             NaN                                NaN   \n",
       "3           42.0            37.0                         318.621484   \n",
       "4           40.0            54.0                         306.528854   \n",
       "\n",
       "      Pre-Flare Start Time       Pre-Flare End Time Flare Interrupt  \\\n",
       "0  2010-05-04 08:29:00.000  2010-05-04 16:29:00.000            True   \n",
       "1  2010-05-04 23:16:00.000  2010-05-05 07:16:00.000            True   \n",
       "2  2010-05-04 23:16:00.000  2010-05-05 07:16:00.000            True   \n",
       "3  2010-05-04 23:16:00.000  2010-05-05 07:16:00.000           False   \n",
       "4  2010-05-06 23:42:00.000  2010-05-07 07:42:00.000            True   \n",
       "\n",
       "       ...       103.2 by 83.6 Fitting Score  103.2 by 95.0 Fitting Score  \\\n",
       "0      ...                               NaN                          NaN   \n",
       "1      ...                               NaN                          NaN   \n",
       "2      ...                               NaN                          NaN   \n",
       "3      ...                               NaN                          NaN   \n",
       "4      ...                               NaN                          NaN   \n",
       "\n",
       "   103.2 by 97.3 Fitting Score  103.2 by 97.7 Fitting Score  \\\n",
       "0                          NaN                          NaN   \n",
       "1                          NaN                          NaN   \n",
       "2                          NaN                          NaN   \n",
       "3                          NaN                          NaN   \n",
       "4                          NaN                          NaN   \n",
       "\n",
       "   103.2 by 102.6 Fitting Score  Has CME  Matching CME time to time of  \\\n",
       "0                           NaN    False                       Dimming   \n",
       "1                           NaN    False                       Dimming   \n",
       "2                           NaN    False                       Dimming   \n",
       "3                           NaN    False                       Dimming   \n",
       "4                           NaN    False                       Dimming   \n",
       "\n",
       "   CME Time  CME Speed [km/s]  CME Mass [g]  \n",
       "0       NaN               NaN           NaN  \n",
       "1       NaN               NaN           NaN  \n",
       "2       NaN               NaN           NaN  \n",
       "3       NaN               NaN           NaN  \n",
       "4       NaN               NaN           NaN  \n",
       "\n",
       "[5 rows x 24312 columns]"
      ]
     },
     "execution_count": 21,
     "metadata": {},
     "output_type": "execute_result"
    }
   ],
   "source": [
    "jedicdaw.head()"
   ]
  },
  {
   "cell_type": "code",
   "execution_count": 45,
   "metadata": {},
   "outputs": [],
   "source": [
    "# Save that work to disk since it takes several minutes\n",
    "jedicdaw.to_csv('jedicdaw_time_position_match.csv', header=True, index=False, mode='w')"
   ]
  },
  {
   "cell_type": "code",
   "execution_count": null,
   "metadata": {},
   "outputs": [],
   "source": [
    "# Or load it from disk rather than running it again\n",
    "jedicdaw = pd.read_csv('jedicdaw_time_position_match.csv', low_memory=False)\n",
    "jedicdaw = jedicdaw.convert_objects(convert_numeric=True)"
   ]
  },
  {
   "cell_type": "markdown",
   "metadata": {},
   "source": [
    "Figure out how many cases there are with multiple CMEs matched in time and position"
   ]
  },
  {
   "cell_type": "code",
   "execution_count": 22,
   "metadata": {},
   "outputs": [
    {
     "name": "stdout",
     "output_type": "stream",
     "text": [
      "# multiple CMEs: 235 # single CMEs: 153 # no CMEs 4382\n"
     ]
    }
   ],
   "source": [
    "multiple_cme_df = jedicdaw.loc[(jedicdaw['Has CME'] > 1), \"Has CME\"]\n",
    "single_cme_df = jedicdaw.loc[(jedicdaw['Has CME'] == True), \"Has CME\"]\n",
    "no_cme_df = jedicdaw.loc[(jedicdaw['Has CME']) == False, \"Has CME\"]\n",
    "print('# multiple CMEs: {0} # single CMEs: {1} # no CMEs {2}'.format(len(multiple_cme_df), len(single_cme_df), len(no_cme_df)))"
   ]
  },
  {
   "cell_type": "code",
   "execution_count": 23,
   "metadata": {},
   "outputs": [
    {
     "data": {
      "text/plain": [
       "7"
      ]
     },
     "execution_count": 23,
     "metadata": {},
     "output_type": "execute_result"
    }
   ],
   "source": [
    "max(multiple_cme_df)"
   ]
  },
  {
   "cell_type": "markdown",
   "metadata": {},
   "source": [
    "# Do some basic statistics "
   ]
  },
  {
   "cell_type": "code",
   "execution_count": 71,
   "metadata": {},
   "outputs": [
    {
     "data": {
      "text/plain": [
       "array([[<matplotlib.axes._subplots.AxesSubplot object at 0x1245e1ba8>]], dtype=object)"
      ]
     },
     "execution_count": 71,
     "metadata": {},
     "output_type": "execute_result"
    },
    {
     "data": {
      "image/png": "[encoded data removed]",
      "text/plain": [
       "<matplotlib.figure.Figure at 0x1255a2240>"
      ]
     },
     "metadata": {},
     "output_type": "display_data"
    }
   ],
   "source": [
    "jedicdaw.hist(column = 'CME Speed [km/s]')"
   ]
  },
  {
   "cell_type": "code",
   "execution_count": 72,
   "metadata": {},
   "outputs": [
    {
     "name": "stdout",
     "output_type": "stream",
     "text": [
      "CME speed [km/s] Mean: 453.66494845360825 Min: 201.0 Max: 1936.0\n"
     ]
    }
   ],
   "source": [
    "print('CME speed [km/s] Mean: {0} Min: {1} Max: {2}'.format(jedicdaw['CME Speed [km/s]'].mean(), jedicdaw['CME Speed [km/s]'].min(), jedicdaw['CME Speed [km/s]'].max()))"
   ]
  },
  {
   "cell_type": "code",
   "execution_count": 73,
   "metadata": {},
   "outputs": [
    {
     "data": {
      "text/plain": [
       "array([[<matplotlib.axes._subplots.AxesSubplot object at 0x15d731358>]], dtype=object)"
      ]
     },
     "execution_count": 73,
     "metadata": {},
     "output_type": "execute_result"
    },
    {
     "data": {
      "image/png": "[encoded data removed]",
      "text/plain": [
       "<matplotlib.figure.Figure at 0x15dd3b470>"
      ]
     },
     "metadata": {},
     "output_type": "display_data"
    }
   ],
   "source": [
    "jedicdaw.hist(column = 'CME Width [º]')"
   ]
  },
  {
   "cell_type": "code",
   "execution_count": 74,
   "metadata": {},
   "outputs": [
    {
     "name": "stdout",
     "output_type": "stream",
     "text": [
      "CME Width [º] Mean: 91.83505154639175 Min: 31.0 Max: 277.0\n"
     ]
    }
   ],
   "source": [
    "print('CME Width [º] Mean: {0} Min: {1} Max: {2}'.format(jedicdaw['CME Width [º]'].mean(), jedicdaw['CME Width [º]'].min(), jedicdaw['CME Width [º]'].max()))"
   ]
  },
  {
   "cell_type": "code",
   "execution_count": 75,
   "metadata": {},
   "outputs": [
    {
     "data": {
      "text/plain": [
       "<matplotlib.axes._subplots.AxesSubplot at 0x15de77908>"
      ]
     },
     "execution_count": 75,
     "metadata": {},
     "output_type": "execute_result"
    },
    {
     "data": {
      "image/png": "[encoded data removed]",
      "text/plain": [
       "<matplotlib.figure.Figure at 0x15de77e80>"
      ]
     },
     "metadata": {},
     "output_type": "display_data"
    }
   ],
   "source": [
    "jedicdaw.plot.scatter(y='CME Mass [g]', x='17.1 Depth [%]')"
   ]
  },
  {
   "cell_type": "code",
   "execution_count": 76,
   "metadata": {},
   "outputs": [
    {
     "data": {
      "text/plain": [
       "<matplotlib.axes._subplots.AxesSubplot at 0x15dc70f60>"
      ]
     },
     "execution_count": 76,
     "metadata": {},
     "output_type": "execute_result"
    },
    {
     "data": {
      "image/png": "[encoded data removed]",
      "text/plain": [
       "<matplotlib.figure.Figure at 0x15dd5c9e8>"
      ]
     },
     "metadata": {},
     "output_type": "display_data"
    }
   ],
   "source": [
    "jedicdaw.plot.scatter(y='CME Mass [g]', x='19.5 Depth [%]')"
   ]
  },
  {
   "cell_type": "code",
   "execution_count": 77,
   "metadata": {},
   "outputs": [
    {
     "data": {
      "text/plain": [
       "<matplotlib.axes._subplots.AxesSubplot at 0x15de180b8>"
      ]
     },
     "execution_count": 77,
     "metadata": {},
     "output_type": "execute_result"
    },
    {
     "data": {
      "image/png": "[encoded data removed]",
      "text/plain": [
       "<matplotlib.figure.Figure at 0x15de18e80>"
      ]
     },
     "metadata": {},
     "output_type": "display_data"
    }
   ],
   "source": [
    "jedicdaw.plot.scatter(y='CME Mass [g]', x='17.1 by 28.4 Depth [%]')"
   ]
  },
  {
   "cell_type": "code",
   "execution_count": 78,
   "metadata": {},
   "outputs": [
    {
     "data": {
      "text/plain": [
       "<matplotlib.axes._subplots.AxesSubplot at 0x15f5d9748>"
      ]
     },
     "execution_count": 78,
     "metadata": {},
     "output_type": "execute_result"
    },
    {
     "data": {
      "image/png": "[encoded data removed]",
      "text/plain": [
       "<matplotlib.figure.Figure at 0x15f5d9e80>"
      ]
     },
     "metadata": {},
     "output_type": "display_data"
    }
   ],
   "source": [
    "jedicdaw.plot.scatter(y='CME Speed [km/s]', x='17.1 Slope Mean [%/s]', xlim=[-2e-4, 8e-4])"
   ]
  },
  {
   "cell_type": "code",
   "execution_count": 79,
   "metadata": {},
   "outputs": [
    {
     "data": {
      "text/plain": [
       "<matplotlib.axes._subplots.AxesSubplot at 0x15e1e54a8>"
      ]
     },
     "execution_count": 79,
     "metadata": {},
     "output_type": "execute_result"
    },
    {
     "data": {
      "image/png": "[encoded data removed]",
      "text/plain": [
       "<matplotlib.figure.Figure at 0x15e1e5e80>"
      ]
     },
     "metadata": {},
     "output_type": "display_data"
    }
   ],
   "source": [
    "jedicdaw.plot.scatter(y='CME Speed [km/s]', x='19.5 Slope Mean [%/s]', xlim=[-2e-4, 8e-4])"
   ]
  },
  {
   "cell_type": "code",
   "execution_count": null,
   "metadata": {},
   "outputs": [],
   "source": []
  }
 ],
 "metadata": {
  "kernelspec": {
   "display_name": "Python [conda env:py36]",
   "language": "python",
   "name": "conda-env-py36-py"
  },
  "language_info": {
   "codemirror_mode": {
    "name": "ipython",
    "version": 3
   },
   "file_extension": ".py",
   "mimetype": "text/x-python",
   "name": "python",
   "nbconvert_exporter": "python",
   "pygments_lexer": "ipython3",
   "version": "3.6.7"
  }
 },
 "nbformat": 4,
 "nbformat_minor": 2
}
