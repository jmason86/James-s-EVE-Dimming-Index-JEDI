{
 "cells": [
  {
   "cell_type": "code",
   "execution_count": 10,
   "metadata": {},
   "outputs": [],
   "source": [
    "success = 0\n",
    "fail_neg_min_slope = 0\n",
    "fail_neg_mean_slope = 0\n",
    "fail_neg_max_slope = 0\n",
    "with open(\"/Users/jmason86/Dropbox/Research/Postdoc_NASA/Analysis/Coronal Dimming Analysis/JEDI Catalog/generate_jedi_catalog.log\") as infile:\n",
    "    for line in infile:\n",
    "        if '[INFO ] [determine_dimming_slope] Computed min' in line:\n",
    "            success += 1\n",
    "        elif '[WARNI] [determine_dimming_slope] Minimum slope of' and 'is unexpectedly < 0.' in line:\n",
    "            fail_neg_min_slope += 1\n",
    "        elif '[WARNI] [determine_dimming_slope] Mean slope of' and 'is unexpectedly < 0.' in line:\n",
    "            fail_neg_mean_slope += 1\n",
    "        elif '[WARNI] [determine_dimming_slope] Maximum slope of' and 'is unexpectedly < 0.' in line:\n",
    "            fail_neg_max_slope += 1"
   ]
  },
  {
   "cell_type": "code",
   "execution_count": 11,
   "metadata": {},
   "outputs": [
    {
     "name": "stdout",
     "output_type": "stream",
     "text": [
      "throughput = 100.0%\n"
     ]
    }
   ],
   "source": [
    "fail = fail_neg_mean_slope\n",
    "total = success + fail\n",
    "throughput = success / total\n",
    "print('throughput = {:.1f}%'.format(throughput * 100))"
   ]
  },
  {
   "cell_type": "markdown",
   "metadata": {},
   "source": [
    "Even though the min slope is sometimes (32% of the time) the wrong direction, it doesn't matter much because the algorithm does still complete and the mean and max slope are never the wrong direction. "
   ]
  },
  {
   "cell_type": "code",
   "execution_count": 12,
   "metadata": {},
   "outputs": [
    {
     "data": {
      "text/plain": [
       "24485"
      ]
     },
     "execution_count": 12,
     "metadata": {},
     "output_type": "execute_result"
    }
   ],
   "source": [
    "fail_neg_min_slope"
   ]
  },
  {
   "cell_type": "code",
   "execution_count": 19,
   "metadata": {},
   "outputs": [
    {
     "name": "stdout",
     "output_type": "stream",
     "text": [
      "min slope is the wrong direction 32.4% of the time\n"
     ]
    }
   ],
   "source": [
    "print('min slope is the wrong direction {:.1f}% of the time'.format(fail_neg_min_slope / total * 100))"
   ]
  },
  {
   "cell_type": "code",
   "execution_count": 13,
   "metadata": {},
   "outputs": [
    {
     "data": {
      "text/plain": [
       "0"
      ]
     },
     "execution_count": 13,
     "metadata": {},
     "output_type": "execute_result"
    }
   ],
   "source": [
    "fail_neg_mean_slope"
   ]
  },
  {
   "cell_type": "code",
   "execution_count": 14,
   "metadata": {},
   "outputs": [
    {
     "data": {
      "text/plain": [
       "0"
      ]
     },
     "execution_count": 14,
     "metadata": {},
     "output_type": "execute_result"
    }
   ],
   "source": [
    "fail_neg_max_slope"
   ]
  },
  {
   "cell_type": "code",
   "execution_count": 15,
   "metadata": {},
   "outputs": [
    {
     "data": {
      "text/plain": [
       "75585"
      ]
     },
     "execution_count": 15,
     "metadata": {},
     "output_type": "execute_result"
    }
   ],
   "source": [
    "total"
   ]
  },
  {
   "cell_type": "code",
   "execution_count": 16,
   "metadata": {},
   "outputs": [
    {
     "data": {
      "text/plain": [
       "75585"
      ]
     },
     "execution_count": 16,
     "metadata": {},
     "output_type": "execute_result"
    }
   ],
   "source": [
    "success"
   ]
  },
  {
   "cell_type": "code",
   "execution_count": 17,
   "metadata": {},
   "outputs": [
    {
     "data": {
      "text/plain": [
       "0"
      ]
     },
     "execution_count": 17,
     "metadata": {},
     "output_type": "execute_result"
    }
   ],
   "source": [
    "fail"
   ]
  },
  {
   "cell_type": "code",
   "execution_count": null,
   "metadata": {},
   "outputs": [],
   "source": []
  }
 ],
 "metadata": {
  "kernelspec": {
   "display_name": "jedi",
   "language": "python",
   "name": "jedi"
  },
  "language_info": {
   "codemirror_mode": {
    "name": "ipython",
    "version": 3
   },
   "file_extension": ".py",
   "mimetype": "text/x-python",
   "name": "python",
   "nbconvert_exporter": "python",
   "pygments_lexer": "ipython3",
   "version": "3.6.7"
  }
 },
 "nbformat": 4,
 "nbformat_minor": 2
}
