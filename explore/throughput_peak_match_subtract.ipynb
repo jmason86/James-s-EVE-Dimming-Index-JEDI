{
 "cells": [
  {
   "cell_type": "code",
   "execution_count": 53,
   "metadata": {},
   "outputs": [],
   "source": [
    "success = 0\n",
    "fail_length = 0\n",
    "fail_no_peak = 0\n",
    "fail_big_time_shift = 0\n",
    "fail_bad_time_shift = 0\n",
    "plot = 0\n",
    "with open(\"/Users/jmason86/Dropbox/Research/Postdoc_NASA/Analysis/Coronal Dimming Analysis/JEDI Catalog/generate_jedi_catalog.log\") as infile:\n",
    "    for line in infile:\n",
    "        if '[INFO ] [light_curve_peak_match_subtract] Light curve peak matching and subtraction complete.' in line:\n",
    "            success += 1\n",
    "        elif '[WARNI] [light_curve_peak_match_subtract] Input light curves have different length' in line:\n",
    "            fail_length += 1\n",
    "        elif '[WARNI] [light_curve_peak_match_subtract] Could not find peak in light curve to subtract' in line:\n",
    "            fail_no_peak += 1\n",
    "        elif '[WARNI] [light_curve_peak_match_subtract] Cannot do peak match. Time shift of' in line:\n",
    "            fail_big_time_shift += 1\n",
    "        elif '[WARNI] [light_curve_peak_match_subtract]' and 'points were shifted to become NaN.' in line:\n",
    "            fail_bad_time_shift += 1\n",
    "        elif '[INFO ] [light_curve_peak_match_subtract] Summary plot saved to' in line:\n",
    "            plot += 1"
   ]
  },
  {
   "cell_type": "code",
   "execution_count": 51,
   "metadata": {},
   "outputs": [
    {
     "name": "stdout",
     "output_type": "stream",
     "text": [
      "throughput = 12.9%\n"
     ]
    }
   ],
   "source": [
    "fail = fail_length + fail_no_peak + fail_big_time_shift + fail_bad_time_shift\n",
    "total = success + fail\n",
    "throughput = success / total\n",
    "print('throughput = {:.1f}%'.format(throughput * 100))"
   ]
  },
  {
   "cell_type": "code",
   "execution_count": 50,
   "metadata": {},
   "outputs": [
    {
     "name": "stdout",
     "output_type": "stream",
     "text": [
      "47.1% fails from input curves having different length\n",
      "13.5% fails from failing to find a peak in either light curve\n",
      "31.6% fails from the shift being too big\n",
      "7.8% fails from the shift pushing all the light curve to become NaN\n"
     ]
    }
   ],
   "source": [
    "print('{:.1f}% fails from input curves having different length'.format(fail_length / fail * 100))\n",
    "print('{:.1f}% fails from failing to find a peak in either light curve'.format(fail_no_peak / fail * 100))\n",
    "print('{:.1f}% fails from the shift being too big'.format(fail_big_time_shift / fail * 100))\n",
    "print('{:.1f}% fails from the shift pushing all the light curve to become NaN'.format(fail_bad_time_shift / fail * 100))"
   ]
  },
  {
   "cell_type": "code",
   "execution_count": 35,
   "metadata": {},
   "outputs": [
    {
     "data": {
      "text/plain": [
       "659106"
      ]
     },
     "execution_count": 35,
     "metadata": {},
     "output_type": "execute_result"
    }
   ],
   "source": [
    "total"
   ]
  },
  {
   "cell_type": "code",
   "execution_count": 52,
   "metadata": {},
   "outputs": [
    {
     "data": {
      "text/plain": [
       "85182"
      ]
     },
     "execution_count": 52,
     "metadata": {},
     "output_type": "execute_result"
    }
   ],
   "source": [
    "success"
   ]
  },
  {
   "cell_type": "code",
   "execution_count": 37,
   "metadata": {},
   "outputs": [
    {
     "data": {
      "text/plain": [
       "573924"
      ]
     },
     "execution_count": 37,
     "metadata": {},
     "output_type": "execute_result"
    }
   ],
   "source": [
    "fail"
   ]
  },
  {
   "cell_type": "code",
   "execution_count": 54,
   "metadata": {},
   "outputs": [
    {
     "data": {
      "text/plain": [
       "266436"
      ]
     },
     "execution_count": 54,
     "metadata": {},
     "output_type": "execute_result"
    }
   ],
   "source": [
    "plot"
   ]
  },
  {
   "cell_type": "code",
   "execution_count": null,
   "metadata": {},
   "outputs": [],
   "source": []
  }
 ],
 "metadata": {
  "kernelspec": {
   "display_name": "jedi",
   "language": "python",
   "name": "jedi"
  },
  "language_info": {
   "codemirror_mode": {
    "name": "ipython",
    "version": 3
   },
   "file_extension": ".py",
   "mimetype": "text/x-python",
   "name": "python",
   "nbconvert_exporter": "python",
   "pygments_lexer": "ipython3",
   "version": "3.6.7"
  }
 },
 "nbformat": 4,
 "nbformat_minor": 2
}
