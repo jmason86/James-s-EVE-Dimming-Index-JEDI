{
 "cells": [
  {
   "cell_type": "code",
   "execution_count": 4,
   "metadata": {},
   "outputs": [],
   "source": [
    "total = 0\n",
    "fail_no_zero_crossing = 0\n",
    "fail_no_neg_slopes = 0\n",
    "fail_no_pos_slopes = 0\n",
    "fail_pos_slope_before_neg_slope = 0\n",
    "with open(\"/Users/jmason86/Dropbox/Research/Postdoc_NASA/Analysis/Coronal Dimming Analysis/JEDI Catalog/generate_jedi_catalog.log\") as infile:\n",
    "    for line in infile:\n",
    "        if '[INFO ] [determine_dimming_duration] Running on event with light curve start time of' in line:\n",
    "            total += 1\n",
    "        elif '[WARNI] [determine_dimming_duration] No zero crossings detected after earliest allowed time of' in line:\n",
    "            fail_no_zero_crossing += 1\n",
    "        elif '[WARNI] [determine_dimming_duration] No negative slope 0-crossing found. Duration cannot be defined.' in line:\n",
    "            fail_no_neg_slopes += 1\n",
    "        elif '[WARNI] [determine_dimming_duration] No positive slope 0-crossing found. Duration cannot be defined.' in line:\n",
    "            fail_no_pos_slopes += 1\n",
    "        elif '[WARNI] [determine_dimming_duration] Dimming light curve may be misaligned in window. Negative slope 0-crossing detected after positive one.' in line:\n",
    "            fail_pos_slope_before_neg_slope += 1"
   ]
  },
  {
   "cell_type": "code",
   "execution_count": 5,
   "metadata": {},
   "outputs": [
    {
     "name": "stdout",
     "output_type": "stream",
     "text": [
      "throughput = 73.9%\n"
     ]
    }
   ],
   "source": [
    "fail = fail_no_zero_crossing + fail_no_neg_slopes + fail_no_pos_slopes + fail_pos_slope_before_neg_slope\n",
    "success = total - fail\n",
    "throughput = success / total\n",
    "print('throughput = {:.1f}%'.format(throughput * 100))"
   ]
  },
  {
   "cell_type": "code",
   "execution_count": 6,
   "metadata": {},
   "outputs": [
    {
     "name": "stdout",
     "output_type": "stream",
     "text": [
      "39.7% fails from not finding any 0 crossings\n",
      "13.5% fails from not finding a negative slope 0 crossing\n",
      "46.8% fails from not finding a positive slope 0 crossing\n",
      "0.0% fails from the positive slope crossing is before the negative one\n"
     ]
    }
   ],
   "source": [
    "print('{:.1f}% fails from not finding any 0 crossings'.format(fail_no_zero_crossing / fail * 100))\n",
    "print('{:.1f}% fails from not finding a negative slope 0 crossing'.format(fail_no_neg_slopes / fail * 100))\n",
    "print('{:.1f}% fails from not finding a positive slope 0 crossing'.format(fail_no_pos_slopes / fail * 100))\n",
    "print('{:.1f}% fails from the positive slope crossing is before the negative one'.format(fail_pos_slope_before_neg_slope / fail * 100))"
   ]
  },
  {
   "cell_type": "code",
   "execution_count": 7,
   "metadata": {},
   "outputs": [
    {
     "data": {
      "text/plain": [
       "75583"
      ]
     },
     "execution_count": 7,
     "metadata": {},
     "output_type": "execute_result"
    }
   ],
   "source": [
    "total"
   ]
  },
  {
   "cell_type": "code",
   "execution_count": 8,
   "metadata": {},
   "outputs": [
    {
     "data": {
      "text/plain": [
       "55869"
      ]
     },
     "execution_count": 8,
     "metadata": {},
     "output_type": "execute_result"
    }
   ],
   "source": [
    "success"
   ]
  },
  {
   "cell_type": "code",
   "execution_count": 9,
   "metadata": {},
   "outputs": [
    {
     "data": {
      "text/plain": [
       "19714"
      ]
     },
     "execution_count": 9,
     "metadata": {},
     "output_type": "execute_result"
    }
   ],
   "source": [
    "fail"
   ]
  },
  {
   "cell_type": "code",
   "execution_count": null,
   "metadata": {},
   "outputs": [],
   "source": []
  }
 ],
 "metadata": {
  "kernelspec": {
   "display_name": "jedi",
   "language": "python",
   "name": "jedi"
  },
  "language_info": {
   "codemirror_mode": {
    "name": "ipython",
    "version": 3
   },
   "file_extension": ".py",
   "mimetype": "text/x-python",
   "name": "python",
   "nbconvert_exporter": "python",
   "pygments_lexer": "ipython3",
   "version": "3.6.7"
  }
 },
 "nbformat": 4,
 "nbformat_minor": 2
}
