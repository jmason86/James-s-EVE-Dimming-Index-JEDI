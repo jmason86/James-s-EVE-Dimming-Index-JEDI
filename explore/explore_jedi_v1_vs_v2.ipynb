{
 "cells": [
  {
   "cell_type": "markdown",
   "metadata": {},
   "source": [
    "# Explore JEDI v1 vs v2"
   ]
  },
  {
   "cell_type": "code",
   "execution_count": 1,
   "metadata": {},
   "outputs": [],
   "source": [
    "import numpy as np\n",
    "import pandas as pd"
   ]
  },
  {
   "cell_type": "markdown",
   "metadata": {},
   "source": [
    "# Load the data"
   ]
  },
  {
   "cell_type": "code",
   "execution_count": 2,
   "metadata": {},
   "outputs": [],
   "source": [
    "data_path = '/Users/jmason86/Dropbox/Research/Postdoc_NASA/Analysis/Coronal Dimming Analysis/JEDI Catalog/'\n",
    "v1 = data_path + 'jedi_v1.0.1.csv'\n",
    "v2 = data_path + 'jedi_v2.csv'"
   ]
  },
  {
   "cell_type": "code",
   "execution_count": 3,
   "metadata": {},
   "outputs": [],
   "source": [
    "v1_df = pd.read_csv(v1, index_col=None, header=0, low_memory=False)\n",
    "v2_df = pd.read_csv(v2, index_col=None, header=0, low_memory=False)"
   ]
  },
  {
   "cell_type": "markdown",
   "metadata": {},
   "source": [
    "# How many new rows are there?"
   ]
  },
  {
   "cell_type": "code",
   "execution_count": 15,
   "metadata": {},
   "outputs": [
    {
     "name": "stdout",
     "output_type": "stream",
     "text": [
      "v1: 4533\n",
      "v2: 5262\n",
      "Difference: 729\n"
     ]
    }
   ],
   "source": [
    "v1_num_rows = len(v1_df)\n",
    "v2_num_rows = len(v2_df)\n",
    "print('v1: {}'.format(v1_num_rows))\n",
    "print('v2: {}'.format(v2_num_rows))\n",
    "print('Difference: {}'.format(v2_num_rows - v1_num_rows))"
   ]
  },
  {
   "cell_type": "markdown",
   "metadata": {},
   "source": [
    "# How many new non-NaN cells are there?"
   ]
  },
  {
   "cell_type": "code",
   "execution_count": 16,
   "metadata": {},
   "outputs": [
    {
     "name": "stdout",
     "output_type": "stream",
     "text": [
      "v1: 514844\n",
      "v2: 724534\n",
      "Difference: 209690\n"
     ]
    }
   ],
   "source": [
    "v1_num_non_nan = v1_df.count().sum()\n",
    "v2_num_non_nan = v2_df.count().sum()\n",
    "print('v1: {}'.format(v1_num_non_nan))\n",
    "print('v2: {}'.format(v2_num_non_nan))\n",
    "print('Difference: {}'.format(v2_num_non_nan - v1_num_non_nan))"
   ]
  },
  {
   "cell_type": "markdown",
   "metadata": {},
   "source": [
    "But v2 has more columns because an additional definition for dimming depth has been included. See: "
   ]
  },
  {
   "cell_type": "code",
   "execution_count": 17,
   "metadata": {},
   "outputs": [
    {
     "name": "stdout",
     "output_type": "stream",
     "text": [
      "v1: 24304\n",
      "v2: 27349\n",
      "Difference: 3045\n"
     ]
    }
   ],
   "source": [
    "v1_num_cols = len(v1_df.columns)\n",
    "v2_num_cols = len(v2_df.columns)\n",
    "print('v1: {}'.format(v1_num_cols))\n",
    "print('v2: {}'.format(v2_num_cols))\n",
    "print('Difference: {}'.format(v2_num_cols - v1_num_cols))"
   ]
  },
  {
   "cell_type": "markdown",
   "metadata": {},
   "source": [
    "So really should look at the percentage of non-NaN vs total cells"
   ]
  },
  {
   "cell_type": "code",
   "execution_count": 29,
   "metadata": {},
   "outputs": [
    {
     "name": "stdout",
     "output_type": "stream",
     "text": [
      "v1:       0.47%\n",
      "v2:       0.50%\n",
      "Difference:       0.04\n"
     ]
    }
   ],
   "source": [
    "v1_percent_non_nan = v1_num_non_nan / (v1_num_rows * v1_num_cols) * 100.\n",
    "v2_percent_non_nan = v2_num_non_nan / (v2_num_rows * v2_num_cols) * 100.\n",
    "print('v1: {:10.2f}%'.format(v1_percent_non_nan))\n",
    "print('v2: {:10.2f}%'.format(v2_percent_non_nan))\n",
    "print('Difference: {:10.2f}'.format(v2_percent_non_nan - v1_percent_non_nan))"
   ]
  },
  {
   "cell_type": "code",
   "execution_count": null,
   "metadata": {},
   "outputs": [],
   "source": []
  }
 ],
 "metadata": {
  "kernelspec": {
   "display_name": "jedi",
   "language": "python",
   "name": "jedi"
  },
  "language_info": {
   "codemirror_mode": {
    "name": "ipython",
    "version": 3
   },
   "file_extension": ".py",
   "mimetype": "text/x-python",
   "name": "python",
   "nbconvert_exporter": "python",
   "pygments_lexer": "ipython3",
   "version": "3.6.7"
  }
 },
 "nbformat": 4,
 "nbformat_minor": 2
}
